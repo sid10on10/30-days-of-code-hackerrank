{
 "cells": [
  {
   "cell_type": "markdown",
   "metadata": {},
   "source": [
    "# Task\n",
    "Given the meal price (base cost of a meal), tip percent (the percentage of the meal price being added as tip), and tax percent (the percentage of the meal price being added as tax) for a meal, find and print the meal's total cost.\n",
    "\n",
    "Note: Be sure to use precise values for your calculations, or you may end up with an incorrectly rounded result!"
   ]
  },
  {
   "cell_type": "code",
   "execution_count": null,
   "metadata": {},
   "outputs": [],
   "source": [
    "#!/bin/python3\n",
    "\n",
    "import math\n",
    "import os\n",
    "import random\n",
    "import re\n",
    "import sys\n",
    "\n",
    "# Complete the solve function below.\n",
    "def solve(meal_cost, tip_percent, tax_percent):\n",
    "    tip = (meal_cost*tip_percent)/100\n",
    "    tax = (meal_cost*tax_percent)/100\n",
    "    total_cost = meal_cost + tip + tax\n",
    "    return(round(total_cost, 0))\n",
    "\n",
    "if __name__ == '__main__':\n",
    "    meal_cost = float(input())\n",
    "\n",
    "    tip_percent = int(input())\n",
    "\n",
    "    tax_percent = int(input())\n",
    "\n",
    "    total_cost = solve(meal_cost, tip_percent, tax_percent)\n",
    "    print(int(total_cost)"
   ]
  }
 ],
 "metadata": {
  "kernelspec": {
   "display_name": "Python 3",
   "language": "python",
   "name": "python3"
  },
  "language_info": {
   "codemirror_mode": {
    "name": "ipython",
    "version": 3
   },
   "file_extension": ".py",
   "mimetype": "text/x-python",
   "name": "python",
   "nbconvert_exporter": "python",
   "pygments_lexer": "ipython3",
   "version": "3.6.5"
  }
 },
 "nbformat": 4,
 "nbformat_minor": 2
}

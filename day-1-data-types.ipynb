{
 "cells": [
  {
   "cell_type": "markdown",
   "metadata": {},
   "source": [
    "Task \n",
    "Complete the code in the editor below. The variables , , and  are already declared and initialized for you. You must:\n",
    "\n",
    "Declare  variables: one of type int, one of type double, and one of type String.\n",
    "Read  lines of input from stdin (according to the sequence given in the Input Format section below) and initialize your variables.\n",
    "Use the  operator to perform the following operations: \n",
    "Print the sum of  plus your int variable on a new line.\n",
    "Print the sum of  plus your double variable to a scale of one decimal place on a new line.\n",
    "Concatenate  with the string you read as input and print the result on a new line."
   ]
  },
  {
   "cell_type": "code",
   "execution_count": 2,
   "metadata": {},
   "outputs": [
    {
     "name": "stdout",
     "output_type": "stream",
     "text": [
      "10\n",
      "20.0\n",
      "\"hello world\"\n",
      "14\n",
      "24.0\n",
      "HackerRank \"hello world\"\n"
     ]
    }
   ],
   "source": [
    "i = 4\n",
    "d = 4.0\n",
    "s = 'HackerRank '\n",
    "\n",
    "\n",
    "# Declare second integer, double, and String variables.\n",
    "second_integer = input()\n",
    "# Read and save an integer, double, and String to your variables.\n",
    "second_double = input()\n",
    "# Print the sum of both integer variables on a new line.\n",
    "second_string = input() \n",
    "# Print the sum of the double variables on a new line.\n",
    "print(i + int(second_integer))\n",
    "print(d + float(second_double))\n",
    "print(s + str(second_string))\n",
    "# Concatenate and print the String variables on a new line\n",
    "# The 's' variable above should be printed first."
   ]
  }
 ],
 "metadata": {
  "kernelspec": {
   "display_name": "Python 3",
   "language": "python",
   "name": "python3"
  },
  "language_info": {
   "codemirror_mode": {
    "name": "ipython",
    "version": 3
   },
   "file_extension": ".py",
   "mimetype": "text/x-python",
   "name": "python",
   "nbconvert_exporter": "python",
   "pygments_lexer": "ipython3",
   "version": "3.6.5"
  }
 },
 "nbformat": 4,
 "nbformat_minor": 2
}

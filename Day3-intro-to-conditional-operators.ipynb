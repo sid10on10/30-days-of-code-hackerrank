{
 "cells": [
  {
   "cell_type": "markdown",
   "metadata": {},
   "source": [
    "Task \n",
    "Given an integer, , perform the following conditional actions:\n",
    "\n",
    "If  is odd, print Weird\n",
    "If  is even and in the inclusive range of  to , print Not Weird\n",
    "If  is even and in the inclusive range of  to , print Weird\n",
    "If  is even and greater than , print Not Weird\n",
    "Complete the stub code provided in your editor to print whether or not  is weird."
   ]
  },
  {
   "cell_type": "code",
   "execution_count": null,
   "metadata": {},
   "outputs": [],
   "source": [
    "#!/bin/python3\n",
    "\n",
    "import math\n",
    "import os\n",
    "import random\n",
    "import re\n",
    "import sys\n",
    "\n",
    "if __name__ == '__main__':\n",
    "    N = int(input())\n",
    "    if N % 2 != 0:\n",
    "        print(\"Weird\")\n",
    "    else:\n",
    "        if N >= 2 and N <= 5:\n",
    "            print(\"Not Weird\")\n",
    "        elif N >= 6 and N <= 20:\n",
    "            print(\"Weird\")\n",
    "        elif N > 20:\n",
    "            print(\"Not Weird\")"
   ]
  }
 ],
 "metadata": {
  "kernelspec": {
   "display_name": "Python 3",
   "language": "python",
   "name": "python3"
  },
  "language_info": {
   "codemirror_mode": {
    "name": "ipython",
    "version": 3
   },
   "file_extension": ".py",
   "mimetype": "text/x-python",
   "name": "python",
   "nbconvert_exporter": "python",
   "pygments_lexer": "ipython3",
   "version": "3.6.5"
  }
 },
 "nbformat": 4,
 "nbformat_minor": 2
}
